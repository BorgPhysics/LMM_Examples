{
 "cells": [
  {
   "cell_type": "markdown",
   "id": "9a75ba83",
   "metadata": {},
   "source": [
    "## Directives Processor:\n",
    "\n",
    "This notebook explores generating and maintaining directives for the FAISS Indexes."
   ]
  },
  {
   "cell_type": "code",
   "execution_count": 1,
   "id": "556dc751",
   "metadata": {},
   "outputs": [],
   "source": [
    "import json"
   ]
  },
  {
   "cell_type": "code",
   "execution_count": 2,
   "id": "60b219fb",
   "metadata": {},
   "outputs": [],
   "source": [
    "# Define the global variable\n",
    "topics_data = None\n",
    "\n",
    "# Functions for loading and saving data\n",
    "def load_topics_data():\n",
    "    global topics_data\n",
    "    with open(\"topics_data.json\", \"r\") as file:\n",
    "        topics_data = json.load(file)\n",
    "\n",
    "def save_topics_data():\n",
    "    global topics_data\n",
    "    with open(\"topics_data.json\", \"w\") as file:\n",
    "        json.dump(topics_data, file, indent=2)\n",
    "\n",
    "def get_topic_by_id_or_name(topic_identifier):\n",
    "    topics_data = load_topics_data()\n",
    "    for topic in topics_data[\"topics\"]:\n",
    "        print('Checking topic and topic id for identifier', topic_identifier)\n",
    "        if topic[\"topic_id\"] == topic_identifier or topic[\"topic\"].lower() == topic_identifier.lower():\n",
    "            return topic\n",
    "    return None\n",
    "\n",
    "def get_directive_by_id(parent_id):\n",
    "    topics_data = load_topics_data()\n",
    "    for topic in topics_data[\"topics\"]:\n",
    "        for directive in topic[\"directives\"]:\n",
    "            print('Checking directive_id for id', parent_id)\n",
    "            if directive[\"directive_id\"] == parent_id:\n",
    "                return directive\n",
    "    return None\n",
    "\n",
    "def check_duplicate_directive(topic_id, directive_text):\n",
    "    topic = get_topic_by_id_or_name(topic_id)\n",
    "    if topic:\n",
    "        for directive in topic[\"directives\"]:\n",
    "            if directive[\"directive\"].lower() == directive_text.lower():\n",
    "                return True\n",
    "    return False\n",
    "\n",
    "def check_duplicate_sub_directive(parent_id, sub_directive_text):\n",
    "    directive = get_directive_by_id(parent_id)\n",
    "    if directive:\n",
    "        for sub_directive in directive[\"sub_directives\"]:\n",
    "            if sub_directive[\"sub_directive\"].lower() == sub_directive_text.lower():\n",
    "                return True\n",
    "    return False\n",
    "\n",
    "def add_directive(topic_identifier, directive_text):\n",
    "    global topics_data\n",
    "    load_topics_data()\n",
    "    print('Adding directive:', directive_text, 'to topic:', topic_identifier)\n",
    "    topic = get_topic_by_id_or_name(topic_identifier)\n",
    "    if topic and not check_duplicate_directive(topic[\"topic_id\"], directive_text):\n",
    "        new_directive_id = f\"{topic['topic_id']}.{len(topic['directives']) + 1}\"\n",
    "        new_directive = {\n",
    "            \"directive_id\": new_directive_id,\n",
    "            \"directive\": directive_text,\n",
    "            \"sub_directives\": []\n",
    "        }\n",
    "        topic[\"directives\"].append(new_directive)\n",
    "        save_topics_data(topics_data)\n",
    "        return f\"Added new directive '{directive_text}' to topic '{topic['topic']}' with ID '{new_directive_id}'.\"\n",
    "    elif topic:\n",
    "        return f\"Directive '{directive_text}' already exists in the topic '{topic['topic']}'.\"\n",
    "    else:\n",
    "        return \"Topic \" + topic + \" not found.\"\n",
    "\n",
    "def add_sub_directive(parent_id, sub_directive_text):\n",
    "    global topics_data\n",
    "    load_topics_data()\n",
    "    print('Adding sub-directive:', sub_directive_text, 'to directive:', parent_id)\n",
    "    directive = get_directive_by_id(parent_id)\n",
    "    if directive and not check_duplicate_sub_directive(parent_id, sub_directive_text):\n",
    "        new_sub_directive_id = f\"{parent_id}.{len(directive['sub_directives']) + 1}\"\n",
    "        new_sub_directive = {\n",
    "            \"sub_directive_id\": new_sub_directive_id,\n",
    "            \"sub_directive\": sub_directive_text\n",
    "        }\n",
    "        directive[\"sub_directives\"].append(new_sub_directive)\n",
    "        save_topics_data(topics_data)\n",
    "        return f\"Added new sub-directive '{sub_directive_text}' to directive '{directive['directive']}' with ID '{new_sub_directive_id}'.\"\n",
    "    elif directive:\n",
    "        return f\"Sub-directive '{sub_directive_text}' already exists under directive '{parent_id}'.\"\n",
    "    else:\n",
    "        return \"Directive \" + parent_id + \" not found.\""
   ]
  },
  {
   "cell_type": "code",
   "execution_count": 3,
   "id": "19d3c7c1",
   "metadata": {},
   "outputs": [
    {
     "name": "stdout",
     "output_type": "stream",
     "text": [
      "Adding directive: Policy and Regulation Variance to topic: AI\n"
     ]
    },
    {
     "ename": "TypeError",
     "evalue": "'NoneType' object is not subscriptable",
     "output_type": "error",
     "traceback": [
      "\u001b[1;31m---------------------------------------------------------------------------\u001b[0m",
      "\u001b[1;31mTypeError\u001b[0m                                 Traceback (most recent call last)",
      "Cell \u001b[1;32mIn[3], line 2\u001b[0m\n\u001b[0;32m      1\u001b[0m \u001b[38;5;66;03m# Example usage:\u001b[39;00m\n\u001b[1;32m----> 2\u001b[0m \u001b[38;5;28mprint\u001b[39m(\u001b[43madd_directive\u001b[49m\u001b[43m(\u001b[49m\u001b[38;5;124;43m\"\u001b[39;49m\u001b[38;5;124;43mAI\u001b[39;49m\u001b[38;5;124;43m\"\u001b[39;49m\u001b[43m,\u001b[49m\u001b[43m \u001b[49m\u001b[38;5;124;43m\"\u001b[39;49m\u001b[38;5;124;43mPolicy and Regulation Variance\u001b[39;49m\u001b[38;5;124;43m\"\u001b[39;49m\u001b[43m)\u001b[49m)\n",
      "Cell \u001b[1;32mIn[2], line 52\u001b[0m, in \u001b[0;36madd_directive\u001b[1;34m(topic_identifier, directive_text)\u001b[0m\n\u001b[0;32m     50\u001b[0m load_topics_data()\n\u001b[0;32m     51\u001b[0m \u001b[38;5;28mprint\u001b[39m(\u001b[38;5;124m'\u001b[39m\u001b[38;5;124mAdding directive:\u001b[39m\u001b[38;5;124m'\u001b[39m, directive_text, \u001b[38;5;124m'\u001b[39m\u001b[38;5;124mto topic:\u001b[39m\u001b[38;5;124m'\u001b[39m, topic_identifier)\n\u001b[1;32m---> 52\u001b[0m topic \u001b[38;5;241m=\u001b[39m \u001b[43mget_topic_by_id_or_name\u001b[49m\u001b[43m(\u001b[49m\u001b[43mtopic_identifier\u001b[49m\u001b[43m)\u001b[49m\n\u001b[0;32m     53\u001b[0m \u001b[38;5;28;01mif\u001b[39;00m topic \u001b[38;5;129;01mand\u001b[39;00m \u001b[38;5;129;01mnot\u001b[39;00m check_duplicate_directive(topic[\u001b[38;5;124m\"\u001b[39m\u001b[38;5;124mtopic_id\u001b[39m\u001b[38;5;124m\"\u001b[39m], directive_text):\n\u001b[0;32m     54\u001b[0m     new_directive_id \u001b[38;5;241m=\u001b[39m \u001b[38;5;124mf\u001b[39m\u001b[38;5;124m\"\u001b[39m\u001b[38;5;132;01m{\u001b[39;00mtopic[\u001b[38;5;124m'\u001b[39m\u001b[38;5;124mtopic_id\u001b[39m\u001b[38;5;124m'\u001b[39m]\u001b[38;5;132;01m}\u001b[39;00m\u001b[38;5;124m.\u001b[39m\u001b[38;5;132;01m{\u001b[39;00m\u001b[38;5;28mlen\u001b[39m(topic[\u001b[38;5;124m'\u001b[39m\u001b[38;5;124mdirectives\u001b[39m\u001b[38;5;124m'\u001b[39m])\u001b[38;5;250m \u001b[39m\u001b[38;5;241m+\u001b[39m\u001b[38;5;250m \u001b[39m\u001b[38;5;241m1\u001b[39m\u001b[38;5;132;01m}\u001b[39;00m\u001b[38;5;124m\"\u001b[39m\n",
      "Cell \u001b[1;32mIn[2], line 17\u001b[0m, in \u001b[0;36mget_topic_by_id_or_name\u001b[1;34m(topic_identifier)\u001b[0m\n\u001b[0;32m     15\u001b[0m \u001b[38;5;28;01mdef\u001b[39;00m \u001b[38;5;21mget_topic_by_id_or_name\u001b[39m(topic_identifier):\n\u001b[0;32m     16\u001b[0m     topics_data \u001b[38;5;241m=\u001b[39m load_topics_data()\n\u001b[1;32m---> 17\u001b[0m     \u001b[38;5;28;01mfor\u001b[39;00m topic \u001b[38;5;129;01min\u001b[39;00m \u001b[43mtopics_data\u001b[49m\u001b[43m[\u001b[49m\u001b[38;5;124;43m\"\u001b[39;49m\u001b[38;5;124;43mtopics\u001b[39;49m\u001b[38;5;124;43m\"\u001b[39;49m\u001b[43m]\u001b[49m:\n\u001b[0;32m     18\u001b[0m         \u001b[38;5;28mprint\u001b[39m(\u001b[38;5;124m'\u001b[39m\u001b[38;5;124mChecking topic and topic id for identifier\u001b[39m\u001b[38;5;124m'\u001b[39m, topic_identifier)\n\u001b[0;32m     19\u001b[0m         \u001b[38;5;28;01mif\u001b[39;00m topic[\u001b[38;5;124m\"\u001b[39m\u001b[38;5;124mtopic_id\u001b[39m\u001b[38;5;124m\"\u001b[39m] \u001b[38;5;241m==\u001b[39m topic_identifier \u001b[38;5;129;01mor\u001b[39;00m topic[\u001b[38;5;124m\"\u001b[39m\u001b[38;5;124mtopic\u001b[39m\u001b[38;5;124m\"\u001b[39m]\u001b[38;5;241m.\u001b[39mlower() \u001b[38;5;241m==\u001b[39m topic_identifier\u001b[38;5;241m.\u001b[39mlower():\n",
      "\u001b[1;31mTypeError\u001b[0m: 'NoneType' object is not subscriptable"
     ]
    }
   ],
   "source": [
    "# Example usage:\n",
    "print(add_directive(\"AI\", \"Policy and Regulation Variance\"))"
   ]
  },
  {
   "cell_type": "code",
   "execution_count": null,
   "id": "8212edba",
   "metadata": {},
   "outputs": [],
   "source": [
    "# Example usage:\n",
    "print(add_sub_directive(\"AI.1\", \"Analyze adoption rates and trends of AI/ML technologies.\"))"
   ]
  },
  {
   "cell_type": "code",
   "execution_count": null,
   "id": "3df30efc",
   "metadata": {},
   "outputs": [],
   "source": [
    "add_directive(\"AI\", \"Global Implementation of AI and ML\")\n",
    "add_sub_directive(\"AI.1\", \"Identify key AI/ML initiatives in various countries.\")\n",
    "add_sub_directive(\"AI.1\", \"Analyze adoption rates and trends of AI/ML technologies.\")\n",
    "add_sub_directive(\"AI.1\", \"Compare and contrast scope and scale of AI/ML applications in different nations.\")\n",
    "add_directive(\"AI\", \"Policy and Regulation Variance\")\n",
    "add_directive(\"AI\", \"Technological Advancements and Competitiveness\")\n",
    "add_sub_directive(\"AI.3\", \"Evaluate advancements in AI/ML research and development worldwide.\")\n",
    "add_sub_directive(\"AI.3\", \"Examine competitive edge of different nations in AI/ML innovation.\")\n",
    "add_sub_directive(\"AI.3\", \"Compare investments made by various countries in AI/ML infrastructure and education.\")\n"
   ]
  },
  {
   "cell_type": "code",
   "execution_count": null,
   "id": "11e40dd1",
   "metadata": {},
   "outputs": [],
   "source": []
  }
 ],
 "metadata": {
  "kernelspec": {
   "display_name": "Python [conda env:transformers_env]",
   "language": "python",
   "name": "conda-env-transformers_env-py"
  },
  "language_info": {
   "codemirror_mode": {
    "name": "ipython",
    "version": 3
   },
   "file_extension": ".py",
   "mimetype": "text/x-python",
   "name": "python",
   "nbconvert_exporter": "python",
   "pygments_lexer": "ipython3",
   "version": "3.11.6"
  }
 },
 "nbformat": 4,
 "nbformat_minor": 5
}
