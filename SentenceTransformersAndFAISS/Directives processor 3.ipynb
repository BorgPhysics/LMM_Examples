{
 "cells": [
  {
   "cell_type": "code",
   "execution_count": null,
   "id": "1691cc82",
   "metadata": {},
   "outputs": [],
   "source": []
  },
  {
   "cell_type": "code",
   "execution_count": 1,
   "id": "48c0ec98",
   "metadata": {},
   "outputs": [],
   "source": [
    "from directives_processor import DirectivesProcessor"
   ]
  },
  {
   "cell_type": "code",
   "execution_count": 2,
   "id": "e0e7c0c3",
   "metadata": {},
   "outputs": [],
   "source": [
    "directive_processor = DirectivesProcessor()"
   ]
  },
  {
   "cell_type": "code",
   "execution_count": 3,
   "id": "3eb9f0df",
   "metadata": {},
   "outputs": [
    {
     "data": {
      "text/plain": [
       "{'topic_title': 'Artificial Intelligence and Machine Learning',\n",
       " 'directives': {'1': {'directive_title': 'Global Implementation of AI and ML',\n",
       "   'subdirectives': {'1': 'Identify key AI/ML initiatives in various countries.',\n",
       "    '2': 'Analyze adoption rates and trends of AI/ML technologies.',\n",
       "    '3': 'Compare and contrast scope and scale of AI/ML applications in different nations.'}},\n",
       "  '2': {'directive_title': 'Policy and Regulation Variance',\n",
       "   'subdirectives': {'1': 'Investigate legal frameworks and policies governing AI/ML in different countries.',\n",
       "    '2': 'Assess ethical considerations and regulatory disparities.',\n",
       "    '3': 'Highlight geopolitical implications of AI/ML disparities among nations.'}},\n",
       "  '3': {'directive_title': 'Technological Advancements and Competitiveness',\n",
       "   'subdirectives': {'1': 'Evaluate advancements in AI/ML research and development worldwide.',\n",
       "    '2': 'Examine competitive edge of different nations in AI/ML innovation.',\n",
       "    '3': 'Compare investments made by various countries in AI/ML infrastructure and education.'}}}}"
      ]
     },
     "execution_count": 3,
     "metadata": {},
     "output_type": "execute_result"
    }
   ],
   "source": [
    "directive_processor.get_topic('AI')"
   ]
  },
  {
   "cell_type": "code",
   "execution_count": 4,
   "id": "f448d488",
   "metadata": {},
   "outputs": [
    {
     "data": {
      "text/plain": [
       "{'topics': {'AI': {'topic_title': 'Artificial Intelligence and Machine Learning',\n",
       "   'directives': {'1': {'directive_title': 'Global Implementation of AI and ML',\n",
       "     'subdirectives': {'1': 'Identify key AI/ML initiatives in various countries.',\n",
       "      '2': 'Analyze adoption rates and trends of AI/ML technologies.',\n",
       "      '3': 'Compare and contrast scope and scale of AI/ML applications in different nations.'}},\n",
       "    '2': {'directive_title': 'Policy and Regulation Variance',\n",
       "     'subdirectives': {'1': 'Investigate legal frameworks and policies governing AI/ML in different countries.',\n",
       "      '2': 'Assess ethical considerations and regulatory disparities.',\n",
       "      '3': 'Highlight geopolitical implications of AI/ML disparities among nations.'}},\n",
       "    '3': {'directive_title': 'Technological Advancements and Competitiveness',\n",
       "     'subdirectives': {'1': 'Evaluate advancements in AI/ML research and development worldwide.',\n",
       "      '2': 'Examine competitive edge of different nations in AI/ML innovation.',\n",
       "      '3': 'Compare investments made by various countries in AI/ML infrastructure and education.'}}}},\n",
       "  'Climate Change': {'topic_title': 'Documents covering climate change, global warming, environmental impacts, renewable energy, etc.',\n",
       "   'directives': {'1': {'directive_title': 'Climate Science and Impacts',\n",
       "     'subdirectives': {'1': 'Explore the scientific understanding of climate change and global warming.',\n",
       "      '2': 'Analyze the documented environmental impacts, such as rising temperatures, extreme weather events, and sea-level rise.',\n",
       "      '3': 'Assess the effects of climate change on ecosystems, biodiversity, and natural resources.'}},\n",
       "    '2': {'directive_title': 'Mitigation and Adaptation Strategies',\n",
       "     'subdirectives': {'1': 'Investigate strategies and policies aimed at mitigating climate change effects.',\n",
       "      '2': 'Examine adaptation measures implemented worldwide to combat environmental challenges.',\n",
       "      '3': 'Analyze the role of renewable energy sources and sustainable practices in reducing carbon emissions.'}},\n",
       "    '3': {'directive_title': 'Socio-Economic and Geopolitical Ramifications',\n",
       "     'subdirectives': {'1': 'Assess socio-economic consequences of climate change, including displacement, economic disruptions, and public health impacts.',\n",
       "      '2': 'Evaluate the geopolitical implications and international cooperation efforts in addressing climate change.',\n",
       "      '3': 'Explore disparities in climate change impacts among different regions and communities.'}}}}}}"
      ]
     },
     "execution_count": 4,
     "metadata": {},
     "output_type": "execute_result"
    }
   ],
   "source": [
    "directive_processor.topics_data"
   ]
  },
  {
   "cell_type": "code",
   "execution_count": 6,
   "id": "d6e6245a",
   "metadata": {},
   "outputs": [
    {
     "name": "stdout",
     "output_type": "stream",
     "text": [
      "AI TOPIC TEXT: Artificial Intelligence and Machine Learning\n",
      "\tGlobal Implementation of AI and ML\n",
      "\t\tIdentify key AI/ML initiatives in various countries.\n",
      "\t\tAnalyze adoption rates and trends of AI/ML technologies.\n",
      "\t\tCompare and contrast scope and scale of AI/ML applications in different nations.\n",
      "\tPolicy and Regulation Variance\n",
      "\t\tInvestigate legal frameworks and policies governing AI/ML in different countries.\n",
      "\t\tAssess ethical considerations and regulatory disparities.\n",
      "\t\tHighlight geopolitical implications of AI/ML disparities among nations.\n",
      "\tTechnological Advancements and Competitiveness\n",
      "\t\tEvaluate advancements in AI/ML research and development worldwide.\n",
      "\t\tExamine competitive edge of different nations in AI/ML innovation.\n",
      "\t\tCompare investments made by various countries in AI/ML infrastructure and education.\n",
      "\n",
      "\n",
      "\n",
      "THE DIRECTIVE TEXT IS:\n",
      " \tPolicy and Regulation Variance\n",
      "\t\tInvestigate legal frameworks and policies governing AI/ML in different countries.\n",
      "\t\tAssess ethical considerations and regulatory disparities.\n",
      "\t\tHighlight geopolitical implications of AI/ML disparities among nations.\n",
      "\n"
     ]
    }
   ],
   "source": [
    "\n",
    "print('AI TOPIC TEXT:', directive_processor.get_topic_text('AI'))\n",
    "print('\\n\\nTHE DIRECTIVE TEXT IS:\\n', directive_processor.get_directive_text('AI', '2'))"
   ]
  },
  {
   "cell_type": "code",
   "execution_count": null,
   "id": "10dbfb5b",
   "metadata": {},
   "outputs": [],
   "source": []
  },
  {
   "cell_type": "code",
   "execution_count": null,
   "id": "b785e5f4",
   "metadata": {},
   "outputs": [],
   "source": []
  },
  {
   "cell_type": "code",
   "execution_count": null,
   "id": "198c1bd4",
   "metadata": {},
   "outputs": [],
   "source": []
  }
 ],
 "metadata": {
  "kernelspec": {
   "display_name": "Python [conda env:transformers_env]",
   "language": "python",
   "name": "conda-env-transformers_env-py"
  },
  "language_info": {
   "codemirror_mode": {
    "name": "ipython",
    "version": 3
   },
   "file_extension": ".py",
   "mimetype": "text/x-python",
   "name": "python",
   "nbconvert_exporter": "python",
   "pygments_lexer": "ipython3",
   "version": "3.11.6"
  }
 },
 "nbformat": 4,
 "nbformat_minor": 5
}
