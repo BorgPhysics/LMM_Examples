{
 "cells": [
  {
   "cell_type": "markdown",
   "id": "397dec6e",
   "metadata": {},
   "source": [
    "## Question Answering Pipeline Tests using ML-CHAMP\n",
    "\n",
    "Now that we have an initial working QA pipeline, we can begin to fine-tune the various components using ML-CHAMP to test and document various changes and settings while documenting the code that was generated, FAISS indexes, etc."
   ]
  },
  {
   "cell_type": "code",
   "execution_count": 1,
   "id": "1824fc9f",
   "metadata": {},
   "outputs": [],
   "source": [
    "import json\n",
    "import os\n",
    "import pprint\n",
    "import sys\n",
    "\n",
    "# If you haven't pip installed the software, you can load it into memory as shown below.\n",
    "#  - be sure to change ml_champ_home to match the location of your copy of ML-CHAMP.\n",
    "# Temporarily simulate that the ML CHAMP library has been pip installed.\n",
    "# This section can be removed after there is a stable python library build.\n",
    "# Set this to where you have downloaded ML CHAMP.\n",
    "# ml_champ_home = 'D:/JupyterPrograms/00-ML-CHAMP/ML-CHAMP'  \n",
    "# # print('ml_champ_home:', ml_champ_home)\n",
    "# sys.path.append(ml_champ_home)\n",
    "\n",
    "from ml_champ import Project\n",
    "from ml_champ import Ensemble"
   ]
  },
  {
   "cell_type": "code",
   "execution_count": 2,
   "id": "70f5de3d",
   "metadata": {},
   "outputs": [
    {
     "name": "stdout",
     "output_type": "stream",
     "text": [
      "\tworking_directory: D:\\JupyterPrograms\\0-CHAT_GPT\\EXPERIMENTS\\ML_CHAMP\\QA_Pipeline\\QA_Pipeline_Testing\n",
      "Importing modules...\n"
     ]
    }
   ],
   "source": [
    "project_name = 'QA_Pipeline_Testing'\n",
    "project = Project(project_name)\n",
    "\n",
    "# project = Project()\n",
    "# project.create_project(project_name=project_name)"
   ]
  },
  {
   "cell_type": "code",
   "execution_count": 16,
   "id": "5b61f741",
   "metadata": {
    "scrolled": false
   },
   "outputs": [
    {
     "name": "stdout",
     "output_type": "stream",
     "text": [
      "\tworking_directory: D:\\JupyterPrograms\\0-CHAT_GPT\\EXPERIMENTS\\ML_CHAMP\\QA_Pipeline\\QA_Pipeline_Testing\n",
      "Importing modules...\n",
      "Deleting previous module: ai_project\n",
      "Deleting previous module: ai_project.model\n",
      "Deleting previous module: ai_project.utils\n",
      "Deleting previous module: ai_project.config\n",
      "Deleting previous module: ai_project.qa_pipeline\n",
      "Deleting previous module: ai_project.qa_pipeline.main\n",
      "Deleting previous module: ai_project.qa_pipeline.data\n",
      "Deleting previous module: ai_project.qa_pipeline.data.data_loader\n",
      "Deleting previous module: ai_project.qa_pipeline.directives\n",
      "Deleting previous module: ai_project.qa_pipeline.directives.directives_processor\n",
      "Deleting previous module: ai_project.qa_pipeline.models\n",
      "Deleting previous module: ai_project.qa_pipeline.models.model_settings\n",
      "Deleting previous module: ai_project.qa_pipeline.faiss_index\n",
      "Deleting previous module: ai_project.qa_pipeline.faiss_index.faiss_index_processes\n",
      "Deleting previous module: ai_project.qa_pipeline.main.analysis_processor\n",
      "Deleting previous module: ai_project.model.model_tasks\n",
      "Called AI_Project.AI_Model.run_preprocessing()...\n",
      "Loaded index from D:/JupyterPrograms/0-CHAT_GPT/EXPERIMENTS/ML_CHAMP/data/doc_index.index\n",
      "Loaded sentence_to_index_mapping from D:/JupyterPrograms/0-CHAT_GPT/EXPERIMENTS/ML_CHAMP/data/sentence_to_index_mapping.json\n",
      "Final length of the index: 831\n",
      "Running LMM Tests...\n",
      "CSV file already exists at: D:/JupyterPrograms/0-CHAT_GPT/EXPERIMENTS/ML_CHAMP/data/document_index.csv\n",
      "Loaded existing DataFrame:\n"
     ]
    },
    {
     "name": "stderr",
     "output_type": "stream",
     "text": [
      "Some weights of the model checkpoint at bert-large-uncased-whole-word-masking-finetuned-squad were not used when initializing BertForQuestionAnswering: ['bert.pooler.dense.weight', 'bert.pooler.dense.bias']\n",
      "- This IS expected if you are initializing BertForQuestionAnswering from the checkpoint of a model trained on another task or with another architecture (e.g. initializing a BertForSequenceClassification model from a BertForPreTraining model).\n",
      "- This IS NOT expected if you are initializing BertForQuestionAnswering from the checkpoint of a model that you expect to be exactly identical (initializing a BertForSequenceClassification model from a BertForSequenceClassification model).\n"
     ]
    },
    {
     "name": "stdout",
     "output_type": "stream",
     "text": [
      "User question: How is global health affected by climate change? \n",
      "Answer: climate change is already affecting the health of millions of people all over the world\n"
     ]
    }
   ],
   "source": [
    "project = Project(project_name)\n",
    "preprocessing_command = {}\n",
    "# preprocessing_command = {\"check_for_new_docs\": True}\n",
    "\n",
    "# Set the command and train from the previous run\n",
    "project.model.run_preprocessing(preprocessing_command)"
   ]
  },
  {
   "cell_type": "code",
   "execution_count": null,
   "id": "6d4e18b2",
   "metadata": {},
   "outputs": [],
   "source": []
  },
  {
   "cell_type": "code",
   "execution_count": null,
   "id": "5ab85f07",
   "metadata": {},
   "outputs": [],
   "source": []
  },
  {
   "cell_type": "code",
   "execution_count": null,
   "id": "30f755ea",
   "metadata": {},
   "outputs": [],
   "source": []
  },
  {
   "cell_type": "code",
   "execution_count": null,
   "id": "4abe3d72",
   "metadata": {},
   "outputs": [],
   "source": []
  },
  {
   "cell_type": "code",
   "execution_count": null,
   "id": "576b7587",
   "metadata": {},
   "outputs": [],
   "source": []
  },
  {
   "cell_type": "code",
   "execution_count": null,
   "id": "0d43ae5b",
   "metadata": {},
   "outputs": [],
   "source": []
  },
  {
   "cell_type": "code",
   "execution_count": null,
   "id": "096f30d5",
   "metadata": {},
   "outputs": [],
   "source": []
  },
  {
   "cell_type": "code",
   "execution_count": null,
   "id": "b9e443e2",
   "metadata": {},
   "outputs": [],
   "source": []
  },
  {
   "cell_type": "code",
   "execution_count": null,
   "id": "fd1d424a",
   "metadata": {},
   "outputs": [],
   "source": []
  },
  {
   "cell_type": "code",
   "execution_count": null,
   "id": "a6cd423f",
   "metadata": {},
   "outputs": [],
   "source": []
  },
  {
   "cell_type": "code",
   "execution_count": null,
   "id": "36ef502e",
   "metadata": {},
   "outputs": [],
   "source": []
  }
 ],
 "metadata": {
  "kernelspec": {
   "display_name": "Python [conda env:transformers_env]",
   "language": "python",
   "name": "conda-env-transformers_env-py"
  },
  "language_info": {
   "codemirror_mode": {
    "name": "ipython",
    "version": 3
   },
   "file_extension": ".py",
   "mimetype": "text/x-python",
   "name": "python",
   "nbconvert_exporter": "python",
   "pygments_lexer": "ipython3",
   "version": "3.11.6"
  }
 },
 "nbformat": 4,
 "nbformat_minor": 5
}
