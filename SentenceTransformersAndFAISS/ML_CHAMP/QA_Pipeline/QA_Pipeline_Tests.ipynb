{
 "cells": [
  {
   "cell_type": "markdown",
   "id": "397dec6e",
   "metadata": {},
   "source": [
    "## Question Answering Pipeline Tests using ML-CHAMP\n",
    "\n",
    "Now that we have an initial working QA pipeline, we can begin to fine-tune the various components using ML-CHAMP to test and document various changes and settings while documenting the code that was generated, FAISS indexes, etc."
   ]
  },
  {
   "cell_type": "code",
   "execution_count": 1,
   "id": "1824fc9f",
   "metadata": {},
   "outputs": [],
   "source": [
    "import json\n",
    "import os\n",
    "import pprint\n",
    "import sys\n",
    "\n",
    "# If you haven't pip installed the software, you can load it into memory as shown below.\n",
    "#  - be sure to change ml_champ_home to match the location of your copy of ML-CHAMP.\n",
    "# Temporarily simulate that the ML CHAMP library has been pip installed.\n",
    "# This section can be removed after there is a stable python library build.\n",
    "# Set this to where you have downloaded ML CHAMP.\n",
    "# ml_champ_home = 'D:/JupyterPrograms/00-ML-CHAMP/ML-CHAMP'  \n",
    "# print('ml_champ_home:', ml_champ_home)\n",
    "# sys.path.append(ml_champ_home)\n",
    "\n",
    "from ml_champ import Project\n",
    "from ml_champ import Ensemble\n",
    "\n",
    "%load_ext autoreload\n",
    "%autoreload 2"
   ]
  },
  {
   "cell_type": "code",
   "execution_count": 2,
   "id": "70f5de3d",
   "metadata": {},
   "outputs": [
    {
     "name": "stdout",
     "output_type": "stream",
     "text": [
      "\tworking_directory: D:\\JupyterPrograms\\0-CHAT_GPT\\EXPERIMENTS\\ML_CHAMP\\QA_Pipeline\\QA_Pipeline_Testing\n",
      "Importing modules...\n",
      "['__class__', '__delattr__', '__dict__', '__dir__', '__doc__', '__eq__', '__format__', '__ge__', '__getattribute__', '__getstate__', '__gt__', '__hash__', '__init__', '__init_subclass__', '__le__', '__lt__', '__module__', '__ne__', '__new__', '__reduce__', '__reduce_ex__', '__repr__', '__setattr__', '__sizeof__', '__str__', '__subclasshook__', '__weakref__', 'get_ai_project', 'get_history_record', 'postprocessing_commands', 'preprocessing_commands', 'run_postprocessing', 'run_preprocessing', 'run_preprocessing_NO', 'test_model', 'train_model']\n"
     ]
    }
   ],
   "source": [
    "project_name = 'QA_Pipeline_Testing'\n",
    "project = Project(project_name)\n",
    "\n",
    "# print(dir(project))\n",
    "print(dir(project.model))\n",
    "\n",
    "# project = Project()\n",
    "# project.create_project(project_name=project_name)\n",
    "summary_model, summary_tokenizer = None, None\n",
    "question_answer_model, question_answer_tokenizer = None, None"
   ]
  },
  {
   "cell_type": "code",
   "execution_count": 3,
   "id": "4421d25b",
   "metadata": {},
   "outputs": [],
   "source": [
    "def preload_models_as_needed():\n",
    "    global project\n",
    "    global summary_model\n",
    "    global summary_tokenizer\n",
    "    global question_answer_model\n",
    "    global question_answer_tokenizer\n",
    "    \n",
    "    ai_project = project.model.get_ai_project()\n",
    "    from ai_project.qa_pipeline.models import model_settings\n",
    "\n",
    "    # from model_settings import get_summarization_model_and_tokenizer\n",
    "    if summary_model and summary_tokenizer:\n",
    "        if not model_settings.summarization_model and not model_settings.summarization_tokenizer:\n",
    "            print('SETTING SUMMARIZER OBJECTS from Jupyter')\n",
    "            model_settings.set_summarization_model_and_tokenizer(summary_model, summary_tokenizer)\n",
    "#         else:\n",
    "#             print('Summarization model and tokenizer are set.')\n",
    "#             print(summary_model)\n",
    "#             print(summary_tokenizer)\n",
    "#             print(model_settings.summarization_model)\n",
    "#             print(model_settings.summarization_tokenizer)\n",
    "\n",
    "    # from model_settings import get_qa_model_and_tokenizer\n",
    "    if question_answer_model and question_answer_tokenizer:\n",
    "        if not model_settings.qa_model and not model_settings.qa_tokenizer:\n",
    "            print('SETTING QA OBJECTS from Jupyter')\n",
    "            model_settings.set_qa_model_and_tokenizer(question_answer_model, question_answer_tokenizer)\n",
    "#         else:\n",
    "#             print('Question/answer model and tokenizer are set.')\n",
    "#             print(question_answer_model)\n",
    "#             print(question_answer_tokenizer)\n",
    "#             print(model_settings.qa_model)\n",
    "#             print(model_settings.qa_tokenizer)\n",
    "    \n",
    "def set_models_as_needed():\n",
    "    global project\n",
    "    global summary_model\n",
    "    global summary_tokenizer\n",
    "    global question_answer_model\n",
    "    global question_answer_tokenizer\n",
    "    \n",
    "    ai_project = project.model.get_ai_project()\n",
    "    from ai_project.qa_pipeline.models import model_settings\n",
    "    \n",
    "    if not summary_model or not summary_tokenizer:\n",
    "        print('GETTING SUMMARY OBJECTS')\n",
    "        summary_model, summary_tokenizer = model_settings.get_summarization_model_and_tokenizer()\n",
    "        \n",
    "    if not question_answer_model or not question_answer_tokenizer:\n",
    "        print('GETTING QA OBJECTS')\n",
    "        question_answer_model, question_answer_tokenizer = model_settings.get_qa_model_and_tokenizer()"
   ]
  },
  {
   "cell_type": "code",
   "execution_count": 4,
   "id": "30f755ea",
   "metadata": {
    "scrolled": false
   },
   "outputs": [
    {
     "name": "stdout",
     "output_type": "stream",
     "text": [
      "\tworking_directory: D:\\JupyterPrograms\\0-CHAT_GPT\\EXPERIMENTS\\ML_CHAMP\\QA_Pipeline\\QA_Pipeline_Testing\n",
      "Importing modules...\n",
      "CLEARED previous modules.\n"
     ]
    },
    {
     "name": "stderr",
     "output_type": "stream",
     "text": [
      "D:\\ProgramData\\Anaconda3\\envs\\transformers_env\\Lib\\site-packages\\tqdm\\auto.py:21: TqdmWarning: IProgress not found. Please update jupyter and ipywidgets. See https://ipywidgets.readthedocs.io/en/stable/user_install.html\n",
      "  from .autonotebook import tqdm as notebook_tqdm\n"
     ]
    },
    {
     "name": "stdout",
     "output_type": "stream",
     "text": [
      "Called AI_Project.AI_Model.run_preprocessing()...\n",
      "Loaded index from D:/JupyterPrograms/0-CHAT_GPT/EXPERIMENTS/ML_CHAMP/data/doc_index.index\n",
      "Loaded sentence_to_index_mapping from D:/JupyterPrograms/0-CHAT_GPT/EXPERIMENTS/ML_CHAMP/data/sentence_to_index_mapping.json\n",
      "Final length of the index: 831\n",
      "Running LMM Tests...\n",
      "CSV file already exists at: D:/JupyterPrograms/0-CHAT_GPT/EXPERIMENTS/ML_CHAMP/data/document_index.csv\n",
      "Loaded existing DataFrame:\n",
      "most_common_doc_id: e5e9975d-5826-4664-83a7-92115931b302 WorldHealthIssues_1.txt\n",
      "LOADING the QA model and tokenizer...\n"
     ]
    },
    {
     "name": "stderr",
     "output_type": "stream",
     "text": [
      "The attention mask and the pad token id were not set. As a consequence, you may observe unexpected behavior. Please pass your input's `attention_mask` to obtain reliable results.\n",
      "Setting `pad_token_id` to `eos_token_id`:50256 for open-end generation.\n"
     ]
    },
    {
     "name": "stdout",
     "output_type": "stream",
     "text": [
      "Length of combined context: 145\n",
      "max_length: 1024\n",
      "\n",
      "\n",
      "GENERATED SEQUENCE 1: We are now at a point where climate change is clearly with us, and much more attention needs to be put on minimizing the impacts on global health through adaptation or enhancing resilience. As we know from the pandemic, preparedness is key, and we are far from prepared for the health impacts of a warmer climate. Impact of climate changeA child looks out over a dried up lake\n",
      "“Climate change is already affecting the health of millions of people all over the world, and more importantly, climate change will worsen throughout this century. People are experiencing climate change in diverse ways\n",
      "Climate change can affect our health, ability to grow food, housing, safety and work. Some of us are already more vulnerable to climate impacts, such as people living in small island nations and other developing countries. As the global average temperature continues to rise and temperatures across the world continue to fall, people face increasing amounts of health or long-term impacts such as sickness, infections and chronic illness. Global health impacts, such as cancer, HIV, HIV/AIDS and diabetes, can be severe. But, this is simply not the case. It is possible that these effects could still be severe but not so. People need to look deeply into our understanding of global health and understand how there are specific challenges to mitigate or mitigate such impacts on our health.\n",
      "\n",
      "3.1.3: \"Treat, reduce, protect…\n",
      "\n",
      "Families suffer as a direct result of climate change\n",
      "\n",
      "This issue stems from how a lack of adequate food, shelter and other support system can drastically impact health that would otherwise be taken for granted. In fact, a great many families around the world have experienced some degree of food insecurity. With a recent article in New Global Health Policy blog by the World Health Organization (WHO), I believe that there are many communities that have experienced food insecurity. What does this mean? Well, it means that these communities face higher risks for disease-related diseases in their communities, especially among people living in developing or developing countries. For this reason, we have identified a number of ways how to address the health impacts in communities which are experiencing problems with food insecurity.\n",
      "\n",
      "A well-functioning food system offers some support from a well-functioning food system and some support from food banks and local or community-based organizations. These are an umbrella group which include organizations that serve the poor and homeless, food banks, and communities of color. While these are not sufficient to address all kinds of problems in the U.S., we believe that they can be a helpful resource to build community trust and to better serve and improve access to food.\n",
      "\n",
      "3.1.4: \"Reduce, reduce, protect…\n",
      "\n",
      "We acknowledge the need to help in food security but we can also do so in ways that reduce or reduce the need for family support and assistance, thereby maximizing the well-being of individuals and communities.\n",
      "\n",
      "5. The concept of family support includes many other things. They can include the support of a child or person who needs it most, an elder, or a parent or caregiver, or a member of one's household. Children can be placed with family and caregivers. An adult can support their physical, financial, and emotional lives, or they might support their physical, financial, and emotional needs without affecting the family member they are supporting.\n",
      "\n",
      "5.1.5: \"Reduce, reduce, protect…\n",
      "\n",
      "We believe that social and health support can play an important role in helping our populations of marginalized groups adapt and adapt to a world with many different climate conditions.\n",
      "\n",
      "5.1.6: \"Reduce, reduce, protect…\n",
      "\n",
      "Food insecurity is a great topic. Many people find food scarcity and its impact on the quality of their diets difficult to comprehend.\n",
      "\n",
      "An example is why many people don't want to live in countries where there are food shortages and shortages of basic nutrition.\n",
      "\n",
      "An alternative is to live in regions that have better nutrition options, or to work in a country that suffers from climate change due to weather effects, low food safety, and low rates of economic growth.\n",
      "\n",
      "People in these regions typically have access to basic supplies and will not need to adapt to a changing climate. But they frequently go without basic supplies because they don't know how to store and cook before the climate changes. This can lead to food insecurity.\n",
      "\n",
      "This is a significant problem, especially in countries which lack a healthy economy for our own people. It can lead to social problems if poverty, lack of development assistance, and/or food insecurity continue to affect people. Such problems can affect the wellbeing of many people in various parts of the world.\n",
      "\n",
      "We believe that people living in areas with severe food scarcity can benefit from food security initiatives that allow people who live in places in high places to eat from the comfort of other people outside their homes. We encourage people to visit the \"natural food deserts\" in the U.S., in Africa, and\n",
      "LOADING the summarization model and tokenizer...\n",
      "\n",
      "SUMMARIZED SEQUENCE 1: Climate change can affect our health, ability to grow food, housing, safety and work. As the global average temperature continues to rise and temperatures across the world continue to fall, people face increasing amounts of health or long-term impacts.\n",
      "\n",
      "\n",
      "\n",
      "GENERATED SEQUENCE 2: We are now at a point where climate change is clearly with us, and much more attention needs to be put on minimizing the impacts on global health through adaptation or enhancing resilience. As we know from the pandemic, preparedness is key, and we are far from prepared for the health impacts of a warmer climate. Impact of climate changeA child looks out over a dried up lake\n",
      "“Climate change is already affecting the health of millions of people all over the world, and more importantly, climate change will worsen throughout this century. People are experiencing climate change in diverse ways\n",
      "Climate change can affect our health, ability to grow food, housing, safety and work. Some of us are already more vulnerable to climate impacts, such as people living in small island nations and other developing countries. Many people have been exposed to drought, floods, wildfires and other climate-related illnesses. Most developing countries also suffer from a major disease known as \"malta,\" a disease that kills about 2 out of every 3 people living in the world. It is estimated that only 6 percent of all people exposed to M. mumps will die by 2050, an amount equivalent to 11 percent of the total population. With no food or medicine, few people are likely to have the means to live in a way they have not previously experienced. Many people are suffering by staying outside, and for years now the world has been trying to contain the effects of global warming. It could take years for some food and medicine to be provided in places where people are living under low income poverty. Food shortages are rampant as more and more people experience extreme stress in their lives, especially children, pregnant women, or pregnant women at risk of getting pregnant by a virus, or from a cancer-causing virus. Many children are at risk of becoming poisoned when they are not vaccinated, especially if they are in urban areas and where contaminated water may be stored. Many of these children are also at risk from the spread of Zika virus, a sexually transmitted infection which can quickly spread to their developing fetuses. People living in poor and developing countries may face increased mortality as a result of climate change and extreme drought conditions. The cost to the WHO for adaptation and protection of global health will be immense, as most countries have already made substantial investments in their efforts to manage climate change. The World Health Organization (WHO) reports that some parts of the world have experienced climate disruption at alarming rates over the past years. They describe a situation which could result in tens to hundreds of millions of people being affected, including more than 2 billion persons and 5.3 billion people in developing countries and their dependents. The lack of change in policy and infrastructure can create a wide range of environmental disaster scenarios of severe climate and disease. The resulting environment is one that will influence the human and other life on earth. As one commentator and researcher from the World Health Organization has put it, \"We must be proactive in managing climate change to prevent future extremes.\" This is not going down without a fight. Global warming already affects 1.6 billion people, especially children. That means that if we continue on the path of inaction, we will have a profound impact upon our lives. This is why we are developing the technologies necessary to prevent its occurrence. The next step is to focus on the prevention and control of climate change. It would be better to focus on prevention and other mitigation efforts to reduce climate impacts at the community level rather than just through the denial of change. The United Nations Framework Convention on Climate Change (UNFCCC) is a set of agreements which ensure that all countries have an equal share of the global energy mix. It was created to address a global problem and requires action. In order to prevent further harmful emissions, all nations must follow and implement the agreement to ensure that the carbon-neutrality policies that are necessary are in place. Climate change, while important as a contribution to the entire international climate deal, is not an isolated factor. The development of a consensus on mitigation strategies, including voluntary actions in areas such as agriculture and in energy markets, will have a global impact. The United States, Canada, most of Europe and Japan, are among the nations that will meet their commitments in December. These are largely symbolic and need the help of new technologies in order to be effective in addressing the future environmental problems. The challenge of changing our own climate is difficult, especially given the limited resources and limited access that nations can have in their communities and with their governments. This is the area where efforts are needed to move forward. These actions provide policymakers with a strong opportunity and opportunity to get there. Climate action for global health will require leaders to make public statements and commitments that will support effective and effective policy. Without action, the risk of climate change will become even greater, with disastrous consequences to humans, the environment and human health. It is therefore crucial that we continue to focus on climate change as a whole. The failure to make these commitments is a sign of inaction, with climate change not only causing a large proportion of\n"
     ]
    },
    {
     "name": "stdout",
     "output_type": "stream",
     "text": [
      "\n",
      "SUMMARIZED SEQUENCE 2: Climate change can affect our health, ability to grow food, housing, safety and work. Many people have been exposed to drought, floods, wildfires and other climate-related illnesses. People living in poor and developing countries may face increased mortality.\n",
      "\n",
      "\n",
      "\n",
      "User question: How is global health affected by climate change? \n",
      "Answer: tensor([[2437,  318, 3298,  ..., 5478,   11,  290],\n",
      "        [2437,  318, 3298,  ..., 1588, 9823,  286]])\n",
      "GETTING SUMMARY OBJECTS\n",
      "Using the PRELOADED summarization model and tokenizer...\n",
      "GETTING QA OBJECTS\n"
     ]
    }
   ],
   "source": [
    "project = Project(project_name)\n",
    "preload_models_as_needed()\n",
    "    \n",
    "preprocessing_command = {}\n",
    "# preprocessing_command = {\"check_for_new_docs\": True}\n",
    "\n",
    "# Set the command and train from the previous run\n",
    "project.model.run_preprocessing(preprocessing_command)\n",
    "set_models_as_needed()"
   ]
  },
  {
   "cell_type": "code",
   "execution_count": null,
   "id": "6d4e18b2",
   "metadata": {},
   "outputs": [],
   "source": []
  },
  {
   "cell_type": "code",
   "execution_count": null,
   "id": "4abe3d72",
   "metadata": {},
   "outputs": [],
   "source": []
  },
  {
   "cell_type": "code",
   "execution_count": null,
   "id": "576b7587",
   "metadata": {},
   "outputs": [],
   "source": []
  },
  {
   "cell_type": "code",
   "execution_count": null,
   "id": "0d43ae5b",
   "metadata": {},
   "outputs": [],
   "source": []
  },
  {
   "cell_type": "code",
   "execution_count": null,
   "id": "096f30d5",
   "metadata": {},
   "outputs": [],
   "source": []
  },
  {
   "cell_type": "code",
   "execution_count": null,
   "id": "b9e443e2",
   "metadata": {},
   "outputs": [],
   "source": []
  },
  {
   "cell_type": "code",
   "execution_count": null,
   "id": "fd1d424a",
   "metadata": {},
   "outputs": [],
   "source": []
  },
  {
   "cell_type": "code",
   "execution_count": null,
   "id": "a6cd423f",
   "metadata": {},
   "outputs": [],
   "source": []
  },
  {
   "cell_type": "code",
   "execution_count": null,
   "id": "36ef502e",
   "metadata": {},
   "outputs": [],
   "source": []
  }
 ],
 "metadata": {
  "kernelspec": {
   "display_name": "Python [conda env:transformers_env]",
   "language": "python",
   "name": "conda-env-transformers_env-py"
  },
  "language_info": {
   "codemirror_mode": {
    "name": "ipython",
    "version": 3
   },
   "file_extension": ".py",
   "mimetype": "text/x-python",
   "name": "python",
   "nbconvert_exporter": "python",
   "pygments_lexer": "ipython3",
   "version": "3.11.6"
  }
 },
 "nbformat": 4,
 "nbformat_minor": 5
}
