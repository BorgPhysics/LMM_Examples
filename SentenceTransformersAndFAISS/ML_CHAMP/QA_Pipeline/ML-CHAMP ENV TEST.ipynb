{
 "cells": [
  {
   "cell_type": "code",
   "execution_count": 1,
   "id": "b1268f54",
   "metadata": {},
   "outputs": [],
   "source": [
    "import json\n",
    "import os\n",
    "import pprint\n",
    "import sys\n",
    "\n",
    "# If you haven't pip installed the software, you can load it into memory as shown below.\n",
    "#  - be sure to change ml_champ_home to match the location of your copy of ML-CHAMP.\n",
    "# Temporarily simulate that the ML CHAMP library has been pip installed.\n",
    "# This section can be removed after there is a stable python library build.\n",
    "# Set this to where you have downloaded ML CHAMP.\n",
    "# ml_champ_home = 'D:/JupyterPrograms/00-ML-CHAMP/ML-CHAMP'  \n",
    "# print('ml_champ_home:', ml_champ_home)\n",
    "# sys.path.append(ml_champ_home)\n",
    "\n",
    "from ml_champ import Project\n",
    "from ml_champ import Ensemble\n",
    "\n",
    "%load_ext autoreload\n",
    "%autoreload 2"
   ]
  },
  {
   "cell_type": "code",
   "execution_count": 2,
   "id": "73a877e9",
   "metadata": {},
   "outputs": [
    {
     "name": "stdout",
     "output_type": "stream",
     "text": [
      "\tworking_directory: D:\\JupyterPrograms\\0-CHAT_GPT\\EXPERIMENTS\\ML_CHAMP\\QA_Pipeline\\QA_Pipeline_Testing\n",
      "Importing modules...\n"
     ]
    }
   ],
   "source": [
    "project_name = 'QA_Pipeline_Testing'\n",
    "project = Project(project_name)"
   ]
  },
  {
   "cell_type": "code",
   "execution_count": 3,
   "id": "405ab046",
   "metadata": {},
   "outputs": [
    {
     "name": "stdout",
     "output_type": "stream",
     "text": [
      "Checking for running WINDOWS server on port 5001 using command: netstat -aon | findstr \":5001 \"\n",
      "project_directory: D:\\JupyterPrograms\\0-CHAT_GPT\\EXPERIMENTS\\ML_CHAMP\\QA_Pipeline\\QA_Pipeline_Testing\n",
      "build_uri_directory: file:///D:/JupyterPrograms/0-CHAT_GPT/EXPERIMENTS/ML_CHAMP/QA_Pipeline/QA_Pipeline_Testing/build\n",
      "Need the following:\n",
      "\t mlflow ui --backend-store-uri file:///D:/JupyterPrograms/0-CHAT_GPT/EXPERIMENTS/ML_CHAMP/QA_Pipeline/QA_Pipeline_Testing/build\n",
      "Server started at file:///D:/JupyterPrograms/0-CHAT_GPT/EXPERIMENTS/ML_CHAMP/QA_Pipeline/QA_Pipeline_Testing/build \n",
      "\tLog in at http://127.0.0.1:5001\n",
      "Checking for running WINDOWS server on port 5000 using command: netstat -aon | findstr \":5000 \"\n",
      "project_directory: D:\\JupyterPrograms\\0-CHAT_GPT\\EXPERIMENTS\\ML_CHAMP\\QA_Pipeline\\QA_Pipeline_Testing\n",
      "Checking for running WINDOWS server on port 5000 using command: netstat -aon | findstr \":5000 \"\n",
      "Server started at D:\\JupyterPrograms\\0-CHAT_GPT\\EXPERIMENTS\\ML_CHAMP\\QA_Pipeline\\QA_Pipeline_Testing\\build :\n",
      "\tLog in at http://127.0.0.1:5000\n"
     ]
    }
   ],
   "source": [
    "project.start_server()\n",
    "project.start_ml_champ_server()"
   ]
  },
  {
   "cell_type": "code",
   "execution_count": 5,
   "id": "9972642a",
   "metadata": {},
   "outputs": [
    {
     "name": "stdout",
     "output_type": "stream",
     "text": [
      "Checking for running WINDOWS server on port 5001 using command: netstat -aon | findstr \":5001 \"\n",
      "Checking for running WINDOWS server on port 5000 using command: netstat -aon | findstr \":5000 \"\n",
      "\n",
      "Found running server on pid 22464 from\n",
      "\t   TCP    0.0.0.0:5000           0.0.0.0:0              LISTENING       22464\n",
      "Shutting down server on port 5000 and pid 22464\n",
      "Checking for running WINDOWS server on port 5002 using command: netstat -aon | findstr \":5002 \"\n"
     ]
    }
   ],
   "source": [
    "# project.stop_server(5001)      # Default is 5001 (MLflow server)\n",
    "# project.stop_server(5000)  # Default ML CHAMP server port\n",
    "# project.stop_server(5002)"
   ]
  },
  {
   "cell_type": "code",
   "execution_count": null,
   "id": "8c6c250b",
   "metadata": {},
   "outputs": [],
   "source": []
  },
  {
   "cell_type": "code",
   "execution_count": null,
   "id": "aac21b6c",
   "metadata": {},
   "outputs": [],
   "source": []
  },
  {
   "cell_type": "code",
   "execution_count": null,
   "id": "911e5ab2",
   "metadata": {},
   "outputs": [],
   "source": []
  },
  {
   "cell_type": "code",
   "execution_count": null,
   "id": "67e20ee1",
   "metadata": {},
   "outputs": [],
   "source": []
  }
 ],
 "metadata": {
  "kernelspec": {
   "display_name": "Python [conda env:transformers_env]",
   "language": "python",
   "name": "conda-env-transformers_env-py"
  },
  "language_info": {
   "codemirror_mode": {
    "name": "ipython",
    "version": 3
   },
   "file_extension": ".py",
   "mimetype": "text/x-python",
   "name": "python",
   "nbconvert_exporter": "python",
   "pygments_lexer": "ipython3",
   "version": "3.11.6"
  }
 },
 "nbformat": 4,
 "nbformat_minor": 5
}
